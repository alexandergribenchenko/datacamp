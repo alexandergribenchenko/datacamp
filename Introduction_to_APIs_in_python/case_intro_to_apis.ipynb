{
  "cells": [
    {
      "cell_type": "markdown",
      "metadata": {
        "id": "view-in-github",
        "colab_type": "text"
      },
      "source": [
        "<a href=\"https://colab.research.google.com/github/alexandergribenchenko/datacamp/blob/main/Introduction_to_APIs_in_python/case_intro_to_apis.ipynb\" target=\"_parent\"><img src=\"https://colab.research.google.com/assets/colab-badge.svg\" alt=\"Open In Colab\"/></a>"
      ]
    },
    {
      "cell_type": "markdown",
      "id": "8ac6a46b",
      "metadata": {
        "tags": [
          "91_min"
        ],
        "id": "8ac6a46b"
      },
      "source": [
        "# How do applications exchange services and communicate?"
      ]
    },
    {
      "cell_type": "markdown",
      "id": "6b1aca60",
      "metadata": {
        "tags": [
          "3_min"
        ],
        "id": "6b1aca60"
      },
      "source": [
        "\n",
        "## Goals\n",
        "\n",
        "In this case you learn how applications communicate to exchange services through the use of **Application Programming Interfaces**, better known as **APIs**. You will also gain an appreciation of the usefulness and impact of this technology in today's digital world as well as interact with some public Web APIs."
      ]
    },
    {
      "cell_type": "markdown",
      "id": "594d39cd",
      "metadata": {
        "tags": [
          "6_min"
        ],
        "id": "594d39cd"
      },
      "source": [
        "## Introduction\n",
        "\n",
        "**Business Context**: The insurance market is in a process of transformation. An insurance company wants to expand its business by offering new services to meet the needs of its customers. Your company has hired you as a data scientist to identify new trends in the market and propose technological innovations that generate new business opportunities.\n",
        "\n",
        "**Business Problem**: Your manager would like you to answer: **How to take advantange of public insurance data to integrate it with the company's internal processes?**\n",
        "\n",
        "**Analytical Context**: In this case, we will learn how to pull information from public web applications."
      ]
    },
    {
      "cell_type": "markdown",
      "id": "33ad283b",
      "metadata": {
        "tags": [
          "7_min"
        ],
        "id": "33ad283b"
      },
      "source": [
        "## What are APIs?\n",
        "\n",
        "We interact with different types of devices in our daily lives. Each of them has its own way of receiving information. Think for a moment about how we interact with the items shown in the following pictures:\n",
        "\n",
        "![](data/images/controller.png)\n",
        "![](data/images/coffee.jpg)\n",
        "![](data/images/printer.png)\n",
        "\n",
        "We know clearly what to expect when we interact with a coffee maker - a cup of magic to start the day. Or maybe we need to print out a report for our boss or relax with a videogame after work. To obtain the desired results we need to know how to interact with each device. We need to be able to make the device understand our requests, and then the device has to communicate the results back to us in a clear and effective way. The communication mechanisms that manufacturers put in their products are called **interfaces**. Buttons and screens are examples of common interfaces. As end users, we do not need to understand the inner workings of a device; we just need to know how to communicate with it.\n",
        "\n",
        "APIs are interfaces, with the difference that they don't necessarily help physical devices communicate with humans, but rather facilitate information transfer between software programs. Imagine how useful it would be for the insurance company to know which places the customer visits most frequently in order to offer them new services. For instance, if a customer visits a car repair often, that can mean that they are in need of auto insurance. By using the Google Maps API, location service developers can provide the consumer with a wide range of applications that can communicate with each other seamlessly to increase sales and improve customer relationship management.\n",
        "\n",
        "![](data/images/maps.png)\n",
        "\n",
        "Before getting into deep technical concepts, let's review the main concepts in every communication process."
      ]
    },
    {
      "cell_type": "markdown",
      "id": "4352a806",
      "metadata": {
        "tags": [
          "6_min"
        ],
        "id": "4352a806"
      },
      "source": [
        "## Communication Process\n",
        "\n",
        "There are key elements in each communication process: The sender, the receiver and the message that is sent through a channel.\n",
        "\n",
        "![Communication diagram](data/images/communication.png)\n",
        "\n",
        "In the context of Web applications, the communication process has two sides. The sender is called the Client and the receiver is the Server.\n",
        "\n",
        "The message can be encoded in some format and in turn the response must be decoded.\n",
        "\n",
        "There are several common formats used by applications - JavaScript Object (**JSON),** eXtensive Markup Language (**XML**), HyperText Markup Language (**HTML**) and plain text.\n"
      ]
    },
    {
      "cell_type": "markdown",
      "id": "1dba9e29",
      "metadata": {
        "tags": [
          "7_min"
        ],
        "id": "1dba9e29"
      },
      "source": [
        "## Web APIs\n",
        "\n",
        "A Web API is a program for exchanging messages between web applications. APIs can be **consumed** (used to obtain information) or **produced** (designed to distribute information, that is, to expose a service). Services can be consumed by different kinds of clients like web browsers, mobile apps, and other programs.\n",
        "\n",
        "\n",
        "A **request** is an API call that uses a direct access **URI** (Uniform Resource Identifier). Client applications send requests to the server that offers a service. There are different ways to send the requests and they are called methods.\n",
        "\n",
        "A **response** is the server’s answer to the request. The server can respond by sending status codes that help the client to know if the request was processed successfully or not. If it wasn't, this code also provides information about the cause of the problem.\n",
        "\n",
        "There are public and private Web APIs. Some require a key or a token for authentication. The examples below are going to consume public API services that do not require authentication.\n",
        "\n",
        "There is a widely used standard for creating APIs called **REST** (Representational State Transfer design pattern). It is a set of guidelines and stylistic constraints followed by programmers to write APIs that can reliably send and receive data between clients and servers.\n",
        "\n",
        "<img src=\"data/images/client-server.png\" style=\"width:3.69948in;height:2.79151in\" />\n"
      ]
    },
    {
      "cell_type": "markdown",
      "id": "929de4a3",
      "metadata": {
        "tags": [
          "12_min"
        ],
        "id": "929de4a3"
      },
      "source": [
        "## Try it yourself: Consume a public API\n",
        "\n",
        "Python has a module called [**`requests`**](https://docs.python-requests.org/en/latest/)) for sending requests and processing responses. It is very easy to use. Let's see an example where we want to consume an API to get random pictures of dogs."
      ]
    },
    {
      "cell_type": "code",
      "execution_count": null,
      "id": "8776f156",
      "metadata": {
        "id": "8776f156"
      },
      "outputs": [],
      "source": [
        "import requests\n",
        "import pandas as pd\n",
        "import shutil"
      ]
    },
    {
      "cell_type": "code",
      "execution_count": null,
      "id": "f5c8c089",
      "metadata": {
        "id": "f5c8c089",
        "outputId": "48cc1af0-a22d-4089-a031-8881c93015a1"
      },
      "outputs": [
        {
          "data": {
            "text/plain": [
              "<Response [200]>"
            ]
          },
          "execution_count": 2,
          "metadata": {},
          "output_type": "execute_result"
        }
      ],
      "source": [
        "# GET request\n",
        "url = 'https://dog.ceo/api/breeds/image/random'\n",
        "requests.get(url)"
      ]
    },
    {
      "cell_type": "markdown",
      "id": "b2de2cd6",
      "metadata": {
        "id": "b2de2cd6"
      },
      "source": [
        "The code above sends a request using the **`GET` method**. There are other ways to send requests to a server such as: **`POST`**, **`PUT`**, and **`DELETE`**. Each of them returns a `Response` object, which can contain a **`status_code`**. This code give us information about what happened with our request."
      ]
    },
    {
      "cell_type": "markdown",
      "id": "f03fccc2",
      "metadata": {
        "tags": [
          "5_min"
        ],
        "id": "f03fccc2"
      },
      "source": [
        "### Exercise 1:\n",
        "\n",
        "Google the meaning of the 200 status code. What does it mean?"
      ]
    },
    {
      "cell_type": "markdown",
      "id": "c4984e0d",
      "metadata": {
        "tags": [
          "ans_st"
        ],
        "id": "c4984e0d"
      },
      "source": [
        "**Answer**. Code 200 means that the server status was the response \"OK\", that is, that the request succeeded."
      ]
    },
    {
      "cell_type": "markdown",
      "id": "a193b87c",
      "metadata": {
        "tags": [
          "5_min"
        ],
        "id": "a193b87c"
      },
      "source": [
        "### Exercise 2:\n",
        "What does the code 404 mean?"
      ]
    },
    {
      "cell_type": "markdown",
      "id": "ae6bff1c",
      "metadata": {
        "tags": [
          "ans_st"
        ],
        "id": "ae6bff1c"
      },
      "source": [
        "**Answer.** It means that the requested resource was not found."
      ]
    },
    {
      "cell_type": "markdown",
      "id": "48aa7319",
      "metadata": {
        "tags": [
          "5_min"
        ],
        "id": "48aa7319"
      },
      "source": [
        "### Exercise 3:\n",
        "A `Response` object contains the server's response to the HTTP request. Save the response of the `dog.ceo` request in a variable called `r`, call the property `status_code`, and print it."
      ]
    },
    {
      "cell_type": "markdown",
      "id": "77148e72",
      "metadata": {
        "tags": [
          "ans_st"
        ],
        "id": "77148e72"
      },
      "source": [
        "**Answer**. Shown below."
      ]
    },
    {
      "cell_type": "code",
      "execution_count": null,
      "id": "66858d26",
      "metadata": {
        "tags": [
          "ans_cell"
        ],
        "id": "66858d26",
        "outputId": "8f433a03-c050-4b8d-bf4b-e6678128b743"
      },
      "outputs": [
        {
          "name": "stdout",
          "output_type": "stream",
          "text": [
            "200\n"
          ]
        }
      ],
      "source": [
        "r = requests.get(url)\n",
        "print(r.status_code)"
      ]
    },
    {
      "cell_type": "markdown",
      "id": "71de635d",
      "metadata": {
        "tags": [
          "6_min"
        ],
        "id": "71de635d"
      },
      "source": [
        "It is very common to receive the response in json format. By calling the `json()` we are able to process the date from our API call and output it to our desired format:"
      ]
    },
    {
      "cell_type": "code",
      "execution_count": null,
      "id": "b80f1a71",
      "metadata": {
        "id": "b80f1a71",
        "outputId": "c9968031-8c72-4aa8-bcdd-3b3109f84b88"
      },
      "outputs": [
        {
          "name": "stdout",
          "output_type": "stream",
          "text": [
            "{'message': 'https://images.dog.ceo/breeds/puggle/IMG_114654.jpg', 'status': 'success'}\n"
          ]
        }
      ],
      "source": [
        "r = requests.get(url)\n",
        "print(r.json())"
      ]
    },
    {
      "cell_type": "markdown",
      "id": "ff27e70a",
      "metadata": {
        "id": "ff27e70a"
      },
      "source": [
        "Notice that we get a dictionary where the `message` key is the url of a picture of a dog. Now we are going to download the image and save it to a file:"
      ]
    },
    {
      "cell_type": "code",
      "execution_count": null,
      "id": "5c310af8",
      "metadata": {
        "id": "5c310af8",
        "outputId": "ea7a8efe-0afa-4e2c-c876-9f101250ef80"
      },
      "outputs": [
        {
          "name": "stdout",
          "output_type": "stream",
          "text": [
            "https://images.dog.ceo/breeds/puggle/IMG_114654.jpg\n"
          ]
        }
      ],
      "source": [
        "# Printing just the URL\n",
        "dog = r.json()\n",
        "url_image = dog['message']\n",
        "print(url_image)"
      ]
    },
    {
      "cell_type": "code",
      "execution_count": null,
      "id": "4eb6c558",
      "metadata": {
        "id": "4eb6c558"
      },
      "outputs": [],
      "source": [
        "# Saving the image to a file\n",
        "r = requests.get(url_image, stream = True)\n",
        "\n",
        "with open('dogo.jpg','wb') as f:\n",
        "        shutil.copyfileobj(r.raw, f)"
      ]
    },
    {
      "cell_type": "markdown",
      "id": "a1010a8c",
      "metadata": {
        "tags": [
          "10_min"
        ],
        "id": "a1010a8c"
      },
      "source": [
        "### Exercise 4:\n",
        "Consume an API to get random images of foxes. Use this url: http://randomfox.ca/floof to make your request. What is the link (URL) of the image?"
      ]
    },
    {
      "cell_type": "markdown",
      "id": "edb6f17c",
      "metadata": {
        "tags": [
          "ans_st"
        ],
        "id": "edb6f17c"
      },
      "source": [
        "**Answer**. A possible answer is shown below:"
      ]
    },
    {
      "cell_type": "code",
      "execution_count": null,
      "id": "f4f4d243",
      "metadata": {
        "tags": [
          "ans_cell"
        ],
        "id": "f4f4d243",
        "outputId": "3d9f5407-1e06-4a91-f8e3-5f5a641f841c"
      },
      "outputs": [
        {
          "name": "stdout",
          "output_type": "stream",
          "text": [
            "200\n"
          ]
        }
      ],
      "source": [
        "# GET request\n",
        "r = requests.get('http://randomfox.ca/floof')\n",
        "print(r.status_code)"
      ]
    },
    {
      "cell_type": "code",
      "execution_count": null,
      "id": "776e76c4",
      "metadata": {
        "tags": [
          "ans_cell"
        ],
        "id": "776e76c4",
        "outputId": "0dd873a8-7be4-4991-a05b-ec53f4f7ce2e"
      },
      "outputs": [
        {
          "name": "stdout",
          "output_type": "stream",
          "text": [
            "https://randomfox.ca/images/91.jpg\n"
          ]
        }
      ],
      "source": [
        "# Printing the URL\n",
        "fox = r.json()\n",
        "print(fox[\"image\"])"
      ]
    },
    {
      "cell_type": "markdown",
      "id": "7e2cbe2c",
      "metadata": {
        "tags": [
          "2_min"
        ],
        "id": "7e2cbe2c"
      },
      "source": [
        "## Consume APIs to load datasets\n",
        "\n",
        "The [Socrata Open Data API](https://dev.socrata.com/) (**SODA**) is a consumer API that enables us to access thousands of open datasets available online. These datasets come in in a variety of formats, including JSON, which is very convenient for loading data sets as `Dataframe` objects. The following code shows how to get an **API endpoint** (a unique URL to the dataset). If you are looking for data on a specific topic or country, just go and search [here](https://www.opendatanetwork.com/) and get the corresponding endpoint."
      ]
    },
    {
      "cell_type": "markdown",
      "id": "d7d47702",
      "metadata": {
        "tags": [
          "10_min"
        ],
        "id": "d7d47702"
      },
      "source": [
        "### Exercise 5\n",
        "Suppose we want to find a dataset about insurance in Texas. After searching in SODA, we found this [Endpoint](https://data.texas.gov/dataset/Insurance-complaints-All-data/ubdr-4uff), which provides access to data about insurance complaints: https://data.texas.gov/resource/ubdr-4uff.json\n",
        "\n",
        "Write a `GET` request and use the object response method `json()` to create a `pandas` `DataFrame` object. Then list the first ten rows.\n",
        "\n",
        "**Hint:** To create a `DataFrame` object from a JSON file use the `pandas` method [`from_dict()`](https://pandas.pydata.org/docs/reference/api/pandas.DataFrame.from_dict.html)."
      ]
    },
    {
      "cell_type": "markdown",
      "id": "09de55bd",
      "metadata": {
        "tags": [
          "ans_st"
        ],
        "id": "09de55bd"
      },
      "source": [
        "**Answer**. Shown below:"
      ]
    },
    {
      "cell_type": "code",
      "execution_count": null,
      "id": "f7542088",
      "metadata": {
        "tags": [
          "ans_cell"
        ],
        "id": "f7542088",
        "outputId": "abe7542b-0a8c-453c-dfde-9ceda311a876"
      },
      "outputs": [
        {
          "name": "stdout",
          "output_type": "stream",
          "text": [
            "Status code: 200\n"
          ]
        },
        {
          "data": {
            "text/html": [
              "<div>\n",
              "<style scoped>\n",
              "    .dataframe tbody tr th:only-of-type {\n",
              "        vertical-align: middle;\n",
              "    }\n",
              "\n",
              "    .dataframe tbody tr th {\n",
              "        vertical-align: top;\n",
              "    }\n",
              "\n",
              "    .dataframe thead th {\n",
              "        text-align: right;\n",
              "    }\n",
              "</style>\n",
              "<table border=\"1\" class=\"dataframe\">\n",
              "  <thead>\n",
              "    <tr style=\"text-align: right;\">\n",
              "      <th></th>\n",
              "      <th>complaint_number</th>\n",
              "      <th>respondent_name</th>\n",
              "      <th>complainant_role</th>\n",
              "      <th>reason</th>\n",
              "      <th>complaint_confirmed_code</th>\n",
              "      <th>disposition</th>\n",
              "      <th>received_date</th>\n",
              "      <th>closed_date</th>\n",
              "      <th>complaint_type</th>\n",
              "      <th>coverage_type</th>\n",
              "      <th>coverage_level</th>\n",
              "      <th>respondent_id</th>\n",
              "      <th>respondent_role</th>\n",
              "      <th>respondent_type</th>\n",
              "      <th>complainant_type</th>\n",
              "      <th>involved_party_type</th>\n",
              "      <th>keyword</th>\n",
              "    </tr>\n",
              "  </thead>\n",
              "  <tbody>\n",
              "    <tr>\n",
              "      <th>0</th>\n",
              "      <td>1</td>\n",
              "      <td>METROPOLITAN LIFE INSURANCE COMPANY</td>\n",
              "      <td>Relative</td>\n",
              "      <td>Customer Service</td>\n",
              "      <td>No</td>\n",
              "      <td>Other</td>\n",
              "      <td>2012-06-12T00:00:00.000</td>\n",
              "      <td>2012-07-25T00:00:00.000</td>\n",
              "      <td>Life, Accident and Health</td>\n",
              "      <td>Life &amp; Annuity</td>\n",
              "      <td>Individual Life</td>\n",
              "      <td>13191</td>\n",
              "      <td>Ins Co - Licensed/Active</td>\n",
              "      <td>Organization</td>\n",
              "      <td>INDV</td>\n",
              "      <td>NaN</td>\n",
              "      <td>NaN</td>\n",
              "    </tr>\n",
              "    <tr>\n",
              "      <th>1</th>\n",
              "      <td>2</td>\n",
              "      <td>AETNA LIFE INSURANCE COMPANY</td>\n",
              "      <td>Provider</td>\n",
              "      <td>Delays (Claims Handling)</td>\n",
              "      <td>No</td>\n",
              "      <td>Information Furnished</td>\n",
              "      <td>2012-06-21T00:00:00.000</td>\n",
              "      <td>2012-08-01T00:00:00.000</td>\n",
              "      <td>Life, Accident and Health</td>\n",
              "      <td>Accident and Health</td>\n",
              "      <td>Group A&amp;H</td>\n",
              "      <td>245</td>\n",
              "      <td>Ins Co - Licensed/Active</td>\n",
              "      <td>Organization</td>\n",
              "      <td>ORG</td>\n",
              "      <td>Insured</td>\n",
              "      <td>NaN</td>\n",
              "    </tr>\n",
              "    <tr>\n",
              "      <th>2</th>\n",
              "      <td>3</td>\n",
              "      <td>BLUE CROSS AND BLUE SHIELD OF TEXAS, A DIVISIO...</td>\n",
              "      <td>Provider</td>\n",
              "      <td>Denial Of Claim</td>\n",
              "      <td>No</td>\n",
              "      <td>Other</td>\n",
              "      <td>2012-06-11T00:00:00.000</td>\n",
              "      <td>2012-07-30T00:00:00.000</td>\n",
              "      <td>Life, Accident and Health</td>\n",
              "      <td>Accident and Health</td>\n",
              "      <td>Group A&amp;H</td>\n",
              "      <td>10047</td>\n",
              "      <td>Ins Co - Licensed/Active</td>\n",
              "      <td>Organization</td>\n",
              "      <td>ORG</td>\n",
              "      <td>NaN</td>\n",
              "      <td>NaN</td>\n",
              "    </tr>\n",
              "    <tr>\n",
              "      <th>3</th>\n",
              "      <td>4</td>\n",
              "      <td>BLUE CROSS AND BLUE SHIELD OF TEXAS, A DIVISIO...</td>\n",
              "      <td>Provider</td>\n",
              "      <td>Denial Of Claim</td>\n",
              "      <td>No</td>\n",
              "      <td>Other</td>\n",
              "      <td>2012-06-28T00:00:00.000</td>\n",
              "      <td>2012-07-30T00:00:00.000</td>\n",
              "      <td>Life, Accident and Health</td>\n",
              "      <td>Accident and Health</td>\n",
              "      <td>Group A&amp;H</td>\n",
              "      <td>10047</td>\n",
              "      <td>Ins Co - Licensed/Active</td>\n",
              "      <td>Organization</td>\n",
              "      <td>ORG</td>\n",
              "      <td>NaN</td>\n",
              "      <td>NaN</td>\n",
              "    </tr>\n",
              "    <tr>\n",
              "      <th>4</th>\n",
              "      <td>5</td>\n",
              "      <td>CHARTER OAK FIRE INSURANCE COMPANY, THE</td>\n",
              "      <td>Insured</td>\n",
              "      <td>Unsatisfactory Settle/Offer</td>\n",
              "      <td>No</td>\n",
              "      <td>Contract Language/Legal Issue; Question of Fact</td>\n",
              "      <td>2012-06-13T00:00:00.000</td>\n",
              "      <td>2012-07-17T00:00:00.000</td>\n",
              "      <td>Property and Casualty</td>\n",
              "      <td>Automobile</td>\n",
              "      <td>Individual Private Pass</td>\n",
              "      <td>2918</td>\n",
              "      <td>Ins Co - Licensed/Active</td>\n",
              "      <td>Organization</td>\n",
              "      <td>INDV</td>\n",
              "      <td>NaN</td>\n",
              "      <td>2012 NORTH TEXAS TORNADOES; ADJUSTER'S HANDLIN...</td>\n",
              "    </tr>\n",
              "    <tr>\n",
              "      <th>5</th>\n",
              "      <td>6</td>\n",
              "      <td>REASSURE AMERICA LIFE INSURANCE COMPANY</td>\n",
              "      <td>Insured</td>\n",
              "      <td>Cash Value; Misrepresentation</td>\n",
              "      <td>No</td>\n",
              "      <td>No Jurisdiction</td>\n",
              "      <td>2012-06-18T00:00:00.000</td>\n",
              "      <td>2012-07-30T00:00:00.000</td>\n",
              "      <td>Life, Accident and Health</td>\n",
              "      <td>Life &amp; Annuity</td>\n",
              "      <td>Individual Life</td>\n",
              "      <td>1228</td>\n",
              "      <td>Ins Co - Licensed/Active</td>\n",
              "      <td>Organization</td>\n",
              "      <td>INDV</td>\n",
              "      <td>NaN</td>\n",
              "      <td>NaN</td>\n",
              "    </tr>\n",
              "    <tr>\n",
              "      <th>6</th>\n",
              "      <td>7</td>\n",
              "      <td>USAA GENERAL INDEMNITY COMPANY</td>\n",
              "      <td>Third Party</td>\n",
              "      <td>Unsatisfactory Settle/Offer</td>\n",
              "      <td>No</td>\n",
              "      <td>Claim Settled; Question of Fact</td>\n",
              "      <td>2012-02-27T00:00:00.000</td>\n",
              "      <td>2012-07-02T00:00:00.000</td>\n",
              "      <td>Property and Casualty</td>\n",
              "      <td>Automobile</td>\n",
              "      <td>Individual Private Pass</td>\n",
              "      <td>1276</td>\n",
              "      <td>Ins Co - Licensed/Active</td>\n",
              "      <td>Organization</td>\n",
              "      <td>INDV</td>\n",
              "      <td>Insured</td>\n",
              "      <td>CLAIM EVALUATION</td>\n",
              "    </tr>\n",
              "    <tr>\n",
              "      <th>7</th>\n",
              "      <td>8</td>\n",
              "      <td>BLUE CROSS AND BLUE SHIELD OF TEXAS, A DIVISIO...</td>\n",
              "      <td>Insured</td>\n",
              "      <td>Denial Of Claim</td>\n",
              "      <td>No</td>\n",
              "      <td>Company Position Upheld</td>\n",
              "      <td>2012-06-19T00:00:00.000</td>\n",
              "      <td>2012-08-06T00:00:00.000</td>\n",
              "      <td>Life, Accident and Health</td>\n",
              "      <td>Accident and Health</td>\n",
              "      <td>Group A&amp;H</td>\n",
              "      <td>10047</td>\n",
              "      <td>Ins Co - Licensed/Active</td>\n",
              "      <td>Organization</td>\n",
              "      <td>INDV</td>\n",
              "      <td>NaN</td>\n",
              "      <td>NaN</td>\n",
              "    </tr>\n",
              "    <tr>\n",
              "      <th>8</th>\n",
              "      <td>9</td>\n",
              "      <td>PROPERTY AND CASUALTY INSURANCE COMPANY OF HAR...</td>\n",
              "      <td>Insured</td>\n",
              "      <td>Unsatisfactory Settle/Offer</td>\n",
              "      <td>No</td>\n",
              "      <td>Complainant Retained Attorney; Question of Fac...</td>\n",
              "      <td>2011-10-03T00:00:00.000</td>\n",
              "      <td>2012-07-20T00:00:00.000</td>\n",
              "      <td>Property and Casualty</td>\n",
              "      <td>Homeowners</td>\n",
              "      <td>Homeowners</td>\n",
              "      <td>8123</td>\n",
              "      <td>Ins Co - Licensed/Active</td>\n",
              "      <td>Organization</td>\n",
              "      <td>INDV</td>\n",
              "      <td>NaN</td>\n",
              "      <td>CLAIM EVALUATION; SUPPLEMENTARY PAYMENT</td>\n",
              "    </tr>\n",
              "    <tr>\n",
              "      <th>9</th>\n",
              "      <td>9</td>\n",
              "      <td>AMERICAS SERVICING CORPORATION</td>\n",
              "      <td>Insured</td>\n",
              "      <td>Unsatisfactory Settle/Offer</td>\n",
              "      <td>Yes</td>\n",
              "      <td>Failure to Timely Respond</td>\n",
              "      <td>2011-10-03T00:00:00.000</td>\n",
              "      <td>2012-07-20T00:00:00.000</td>\n",
              "      <td>Property and Casualty</td>\n",
              "      <td>Homeowners</td>\n",
              "      <td>Homeowners</td>\n",
              "      <td>66259</td>\n",
              "      <td>Mortgage Lender</td>\n",
              "      <td>Organization</td>\n",
              "      <td>INDV</td>\n",
              "      <td>NaN</td>\n",
              "      <td>CLAIM EVALUATION; SUPPLEMENTARY PAYMENT</td>\n",
              "    </tr>\n",
              "  </tbody>\n",
              "</table>\n",
              "</div>"
            ],
            "text/plain": [
              "  complaint_number                                    respondent_name  \\\n",
              "0                1                METROPOLITAN LIFE INSURANCE COMPANY   \n",
              "1                2                       AETNA LIFE INSURANCE COMPANY   \n",
              "2                3  BLUE CROSS AND BLUE SHIELD OF TEXAS, A DIVISIO...   \n",
              "3                4  BLUE CROSS AND BLUE SHIELD OF TEXAS, A DIVISIO...   \n",
              "4                5            CHARTER OAK FIRE INSURANCE COMPANY, THE   \n",
              "5                6            REASSURE AMERICA LIFE INSURANCE COMPANY   \n",
              "6                7                     USAA GENERAL INDEMNITY COMPANY   \n",
              "7                8  BLUE CROSS AND BLUE SHIELD OF TEXAS, A DIVISIO...   \n",
              "8                9  PROPERTY AND CASUALTY INSURANCE COMPANY OF HAR...   \n",
              "9                9                     AMERICAS SERVICING CORPORATION   \n",
              "\n",
              "  complainant_role                         reason complaint_confirmed_code  \\\n",
              "0         Relative               Customer Service                       No   \n",
              "1         Provider       Delays (Claims Handling)                       No   \n",
              "2         Provider                Denial Of Claim                       No   \n",
              "3         Provider                Denial Of Claim                       No   \n",
              "4          Insured    Unsatisfactory Settle/Offer                       No   \n",
              "5          Insured  Cash Value; Misrepresentation                       No   \n",
              "6      Third Party    Unsatisfactory Settle/Offer                       No   \n",
              "7          Insured                Denial Of Claim                       No   \n",
              "8          Insured    Unsatisfactory Settle/Offer                       No   \n",
              "9          Insured    Unsatisfactory Settle/Offer                      Yes   \n",
              "\n",
              "                                         disposition            received_date  \\\n",
              "0                                              Other  2012-06-12T00:00:00.000   \n",
              "1                              Information Furnished  2012-06-21T00:00:00.000   \n",
              "2                                              Other  2012-06-11T00:00:00.000   \n",
              "3                                              Other  2012-06-28T00:00:00.000   \n",
              "4    Contract Language/Legal Issue; Question of Fact  2012-06-13T00:00:00.000   \n",
              "5                                    No Jurisdiction  2012-06-18T00:00:00.000   \n",
              "6                    Claim Settled; Question of Fact  2012-02-27T00:00:00.000   \n",
              "7                            Company Position Upheld  2012-06-19T00:00:00.000   \n",
              "8  Complainant Retained Attorney; Question of Fac...  2011-10-03T00:00:00.000   \n",
              "9                          Failure to Timely Respond  2011-10-03T00:00:00.000   \n",
              "\n",
              "               closed_date             complaint_type        coverage_type  \\\n",
              "0  2012-07-25T00:00:00.000  Life, Accident and Health       Life & Annuity   \n",
              "1  2012-08-01T00:00:00.000  Life, Accident and Health  Accident and Health   \n",
              "2  2012-07-30T00:00:00.000  Life, Accident and Health  Accident and Health   \n",
              "3  2012-07-30T00:00:00.000  Life, Accident and Health  Accident and Health   \n",
              "4  2012-07-17T00:00:00.000      Property and Casualty           Automobile   \n",
              "5  2012-07-30T00:00:00.000  Life, Accident and Health       Life & Annuity   \n",
              "6  2012-07-02T00:00:00.000      Property and Casualty           Automobile   \n",
              "7  2012-08-06T00:00:00.000  Life, Accident and Health  Accident and Health   \n",
              "8  2012-07-20T00:00:00.000      Property and Casualty           Homeowners   \n",
              "9  2012-07-20T00:00:00.000      Property and Casualty           Homeowners   \n",
              "\n",
              "            coverage_level respondent_id           respondent_role  \\\n",
              "0          Individual Life         13191  Ins Co - Licensed/Active   \n",
              "1                Group A&H           245  Ins Co - Licensed/Active   \n",
              "2                Group A&H         10047  Ins Co - Licensed/Active   \n",
              "3                Group A&H         10047  Ins Co - Licensed/Active   \n",
              "4  Individual Private Pass          2918  Ins Co - Licensed/Active   \n",
              "5          Individual Life          1228  Ins Co - Licensed/Active   \n",
              "6  Individual Private Pass          1276  Ins Co - Licensed/Active   \n",
              "7                Group A&H         10047  Ins Co - Licensed/Active   \n",
              "8               Homeowners          8123  Ins Co - Licensed/Active   \n",
              "9               Homeowners         66259           Mortgage Lender   \n",
              "\n",
              "  respondent_type complainant_type involved_party_type  \\\n",
              "0    Organization             INDV                 NaN   \n",
              "1    Organization              ORG             Insured   \n",
              "2    Organization              ORG                 NaN   \n",
              "3    Organization              ORG                 NaN   \n",
              "4    Organization             INDV                 NaN   \n",
              "5    Organization             INDV                 NaN   \n",
              "6    Organization             INDV             Insured   \n",
              "7    Organization             INDV                 NaN   \n",
              "8    Organization             INDV                 NaN   \n",
              "9    Organization             INDV                 NaN   \n",
              "\n",
              "                                             keyword  \n",
              "0                                                NaN  \n",
              "1                                                NaN  \n",
              "2                                                NaN  \n",
              "3                                                NaN  \n",
              "4  2012 NORTH TEXAS TORNADOES; ADJUSTER'S HANDLIN...  \n",
              "5                                                NaN  \n",
              "6                                   CLAIM EVALUATION  \n",
              "7                                                NaN  \n",
              "8            CLAIM EVALUATION; SUPPLEMENTARY PAYMENT  \n",
              "9            CLAIM EVALUATION; SUPPLEMENTARY PAYMENT  "
            ]
          },
          "execution_count": 9,
          "metadata": {},
          "output_type": "execute_result"
        }
      ],
      "source": [
        "# Defining the URL\n",
        "url= 'https://data.texas.gov/resource/ubdr-4uff.json'\n",
        "\n",
        "# Making the request\n",
        "r = requests.get(url)\n",
        "print(\"Status code:\", r.status_code)\n",
        "\n",
        "# Obtaining the JSON and converting it to a DataFrame\n",
        "rjson = r.json()\n",
        "df = pd.DataFrame.from_dict(rjson)\n",
        "df.head(10)"
      ]
    },
    {
      "cell_type": "markdown",
      "id": "33c925be",
      "metadata": {
        "tags": [
          "5_min"
        ],
        "id": "33c925be"
      },
      "source": [
        "Filters can be applied to endpoints directly using parameters. The following code illustrates how to filter by the `reason` column to obtain only `Denial Of Claim` reasons. Notice the use of `?` and the parameter with its respective value:"
      ]
    },
    {
      "cell_type": "code",
      "execution_count": null,
      "id": "84f4a7a5",
      "metadata": {
        "id": "84f4a7a5",
        "outputId": "0da76b68-9be4-4816-eacd-dc901cd21a87"
      },
      "outputs": [
        {
          "data": {
            "text/html": [
              "<div>\n",
              "<style scoped>\n",
              "    .dataframe tbody tr th:only-of-type {\n",
              "        vertical-align: middle;\n",
              "    }\n",
              "\n",
              "    .dataframe tbody tr th {\n",
              "        vertical-align: top;\n",
              "    }\n",
              "\n",
              "    .dataframe thead th {\n",
              "        text-align: right;\n",
              "    }\n",
              "</style>\n",
              "<table border=\"1\" class=\"dataframe\">\n",
              "  <thead>\n",
              "    <tr style=\"text-align: right;\">\n",
              "      <th></th>\n",
              "      <th>complaint_number</th>\n",
              "      <th>respondent_name</th>\n",
              "      <th>complainant_role</th>\n",
              "      <th>reason</th>\n",
              "      <th>complaint_confirmed_code</th>\n",
              "      <th>disposition</th>\n",
              "      <th>received_date</th>\n",
              "      <th>closed_date</th>\n",
              "      <th>complaint_type</th>\n",
              "      <th>coverage_type</th>\n",
              "      <th>coverage_level</th>\n",
              "      <th>respondent_id</th>\n",
              "      <th>respondent_role</th>\n",
              "      <th>respondent_type</th>\n",
              "      <th>complainant_type</th>\n",
              "      <th>involved_party_type</th>\n",
              "      <th>keyword</th>\n",
              "    </tr>\n",
              "  </thead>\n",
              "  <tbody>\n",
              "    <tr>\n",
              "      <th>0</th>\n",
              "      <td>3</td>\n",
              "      <td>BLUE CROSS AND BLUE SHIELD OF TEXAS, A DIVISIO...</td>\n",
              "      <td>Provider</td>\n",
              "      <td>Denial Of Claim</td>\n",
              "      <td>No</td>\n",
              "      <td>Other</td>\n",
              "      <td>2012-06-11T00:00:00.000</td>\n",
              "      <td>2012-07-30T00:00:00.000</td>\n",
              "      <td>Life, Accident and Health</td>\n",
              "      <td>Accident and Health</td>\n",
              "      <td>Group A&amp;H</td>\n",
              "      <td>10047</td>\n",
              "      <td>Ins Co - Licensed/Active</td>\n",
              "      <td>Organization</td>\n",
              "      <td>ORG</td>\n",
              "      <td>NaN</td>\n",
              "      <td>NaN</td>\n",
              "    </tr>\n",
              "    <tr>\n",
              "      <th>1</th>\n",
              "      <td>4</td>\n",
              "      <td>BLUE CROSS AND BLUE SHIELD OF TEXAS, A DIVISIO...</td>\n",
              "      <td>Provider</td>\n",
              "      <td>Denial Of Claim</td>\n",
              "      <td>No</td>\n",
              "      <td>Other</td>\n",
              "      <td>2012-06-28T00:00:00.000</td>\n",
              "      <td>2012-07-30T00:00:00.000</td>\n",
              "      <td>Life, Accident and Health</td>\n",
              "      <td>Accident and Health</td>\n",
              "      <td>Group A&amp;H</td>\n",
              "      <td>10047</td>\n",
              "      <td>Ins Co - Licensed/Active</td>\n",
              "      <td>Organization</td>\n",
              "      <td>ORG</td>\n",
              "      <td>NaN</td>\n",
              "      <td>NaN</td>\n",
              "    </tr>\n",
              "    <tr>\n",
              "      <th>2</th>\n",
              "      <td>8</td>\n",
              "      <td>BLUE CROSS AND BLUE SHIELD OF TEXAS, A DIVISIO...</td>\n",
              "      <td>Insured</td>\n",
              "      <td>Denial Of Claim</td>\n",
              "      <td>No</td>\n",
              "      <td>Company Position Upheld</td>\n",
              "      <td>2012-06-19T00:00:00.000</td>\n",
              "      <td>2012-08-06T00:00:00.000</td>\n",
              "      <td>Life, Accident and Health</td>\n",
              "      <td>Accident and Health</td>\n",
              "      <td>Group A&amp;H</td>\n",
              "      <td>10047</td>\n",
              "      <td>Ins Co - Licensed/Active</td>\n",
              "      <td>Organization</td>\n",
              "      <td>INDV</td>\n",
              "      <td>NaN</td>\n",
              "      <td>NaN</td>\n",
              "    </tr>\n",
              "    <tr>\n",
              "      <th>3</th>\n",
              "      <td>12</td>\n",
              "      <td>HEALTHSPRING LIFE &amp; HEALTH INSURANCE COMPANY, ...</td>\n",
              "      <td>Relative</td>\n",
              "      <td>Denial Of Claim</td>\n",
              "      <td>No</td>\n",
              "      <td>Contract Language/Legal Issue</td>\n",
              "      <td>2012-06-18T00:00:00.000</td>\n",
              "      <td>2012-07-19T00:00:00.000</td>\n",
              "      <td>Life, Accident and Health</td>\n",
              "      <td>Accident and Health</td>\n",
              "      <td>Individual A &amp; H</td>\n",
              "      <td>27417</td>\n",
              "      <td>Ins Co - Licensed/Active</td>\n",
              "      <td>Organization</td>\n",
              "      <td>INDV</td>\n",
              "      <td>GR Elected Official; Insured</td>\n",
              "      <td>NaN</td>\n",
              "    </tr>\n",
              "    <tr>\n",
              "      <th>4</th>\n",
              "      <td>15</td>\n",
              "      <td>ACCEPTANCE CASUALTY INSURANCE COMPANY</td>\n",
              "      <td>Insured</td>\n",
              "      <td>Denial Of Claim</td>\n",
              "      <td>No</td>\n",
              "      <td>Question of Fact; Information Furnished; Addit...</td>\n",
              "      <td>2012-06-05T00:00:00.000</td>\n",
              "      <td>2012-07-27T00:00:00.000</td>\n",
              "      <td>Property and Casualty</td>\n",
              "      <td>Homeowners</td>\n",
              "      <td>Homeowners</td>\n",
              "      <td>8207</td>\n",
              "      <td>Ins Co - Licensed/Active</td>\n",
              "      <td>Organization</td>\n",
              "      <td>INDV</td>\n",
              "      <td>Third Party Admin-Non Licensed</td>\n",
              "      <td>CLAIM EVALUATION; FOUNDATION ; WATER DAMAGE</td>\n",
              "    </tr>\n",
              "    <tr>\n",
              "      <th>...</th>\n",
              "      <td>...</td>\n",
              "      <td>...</td>\n",
              "      <td>...</td>\n",
              "      <td>...</td>\n",
              "      <td>...</td>\n",
              "      <td>...</td>\n",
              "      <td>...</td>\n",
              "      <td>...</td>\n",
              "      <td>...</td>\n",
              "      <td>...</td>\n",
              "      <td>...</td>\n",
              "      <td>...</td>\n",
              "      <td>...</td>\n",
              "      <td>...</td>\n",
              "      <td>...</td>\n",
              "      <td>...</td>\n",
              "      <td>...</td>\n",
              "    </tr>\n",
              "    <tr>\n",
              "      <th>995</th>\n",
              "      <td>7604</td>\n",
              "      <td>BLUE CROSS AND BLUE SHIELD OF TEXAS, A DIVISIO...</td>\n",
              "      <td>Provider</td>\n",
              "      <td>Denial Of Claim</td>\n",
              "      <td>No</td>\n",
              "      <td>No Jurisdiction</td>\n",
              "      <td>2012-09-11T00:00:00.000</td>\n",
              "      <td>2012-11-13T00:00:00.000</td>\n",
              "      <td>Life, Accident and Health</td>\n",
              "      <td>Accident and Health</td>\n",
              "      <td>Group A&amp;H</td>\n",
              "      <td>10047</td>\n",
              "      <td>Self-Funded / Erisa</td>\n",
              "      <td>Organization</td>\n",
              "      <td>ORG</td>\n",
              "      <td>NaN</td>\n",
              "      <td>NaN</td>\n",
              "    </tr>\n",
              "    <tr>\n",
              "      <th>996</th>\n",
              "      <td>7611</td>\n",
              "      <td>TEXAS FARM BUREAU MUTUAL INSURANCE COMPANY</td>\n",
              "      <td>Insured</td>\n",
              "      <td>Denial Of Claim</td>\n",
              "      <td>No</td>\n",
              "      <td>Information Furnished; Question of Fact</td>\n",
              "      <td>2012-09-04T00:00:00.000</td>\n",
              "      <td>2012-11-05T00:00:00.000</td>\n",
              "      <td>Property and Casualty</td>\n",
              "      <td>Homeowners</td>\n",
              "      <td>Homeowners</td>\n",
              "      <td>1450</td>\n",
              "      <td>Ins Co - Licensed/Active</td>\n",
              "      <td>Organization</td>\n",
              "      <td>INDV</td>\n",
              "      <td>NaN</td>\n",
              "      <td>DAMAGE DISPUTE; ENGINEER'S REPORT; HAIL; ROOF</td>\n",
              "    </tr>\n",
              "    <tr>\n",
              "      <th>997</th>\n",
              "      <td>7612</td>\n",
              "      <td>ACCC INSURANCE COMPANY</td>\n",
              "      <td>Third Party</td>\n",
              "      <td>Denial Of Claim</td>\n",
              "      <td>No</td>\n",
              "      <td>Contract Language/Legal Issue; Information Fur...</td>\n",
              "      <td>2012-09-04T00:00:00.000</td>\n",
              "      <td>2012-11-05T00:00:00.000</td>\n",
              "      <td>Property and Casualty</td>\n",
              "      <td>Automobile</td>\n",
              "      <td>Individual Private Pass</td>\n",
              "      <td>9825</td>\n",
              "      <td>Ins Co - Licensed/Active</td>\n",
              "      <td>Organization</td>\n",
              "      <td>INDV</td>\n",
              "      <td>Insured</td>\n",
              "      <td>UNCOOPERATIVE INSURED</td>\n",
              "    </tr>\n",
              "    <tr>\n",
              "      <th>998</th>\n",
              "      <td>7615</td>\n",
              "      <td>NAUTILUS INSURANCE COMPANY</td>\n",
              "      <td>Insured</td>\n",
              "      <td>Denial Of Claim</td>\n",
              "      <td>No</td>\n",
              "      <td>NaN</td>\n",
              "      <td>2012-09-04T00:00:00.000</td>\n",
              "      <td>2013-01-18T00:00:00.000</td>\n",
              "      <td>Property and Casualty</td>\n",
              "      <td>Miscellaneous</td>\n",
              "      <td>Surplus Lines</td>\n",
              "      <td>55806</td>\n",
              "      <td>Ins Co - Licensed/Active</td>\n",
              "      <td>Organization</td>\n",
              "      <td>ORG</td>\n",
              "      <td>NaN</td>\n",
              "      <td>NaN</td>\n",
              "    </tr>\n",
              "    <tr>\n",
              "      <th>999</th>\n",
              "      <td>7632</td>\n",
              "      <td>ALLSTATE FIRE AND CASUALTY INSURANCE COMPANY</td>\n",
              "      <td>Insured</td>\n",
              "      <td>Denial Of Claim</td>\n",
              "      <td>No</td>\n",
              "      <td>Information Furnished</td>\n",
              "      <td>2012-09-04T00:00:00.000</td>\n",
              "      <td>2012-11-06T00:00:00.000</td>\n",
              "      <td>Property and Casualty</td>\n",
              "      <td>Automobile</td>\n",
              "      <td>Individual Private Pass</td>\n",
              "      <td>936</td>\n",
              "      <td>Ins Co - Licensed/Active</td>\n",
              "      <td>Organization</td>\n",
              "      <td>INDV</td>\n",
              "      <td>NaN</td>\n",
              "      <td>NaN</td>\n",
              "    </tr>\n",
              "  </tbody>\n",
              "</table>\n",
              "<p>1000 rows × 17 columns</p>\n",
              "</div>"
            ],
            "text/plain": [
              "    complaint_number                                    respondent_name  \\\n",
              "0                  3  BLUE CROSS AND BLUE SHIELD OF TEXAS, A DIVISIO...   \n",
              "1                  4  BLUE CROSS AND BLUE SHIELD OF TEXAS, A DIVISIO...   \n",
              "2                  8  BLUE CROSS AND BLUE SHIELD OF TEXAS, A DIVISIO...   \n",
              "3                 12  HEALTHSPRING LIFE & HEALTH INSURANCE COMPANY, ...   \n",
              "4                 15              ACCEPTANCE CASUALTY INSURANCE COMPANY   \n",
              "..               ...                                                ...   \n",
              "995             7604  BLUE CROSS AND BLUE SHIELD OF TEXAS, A DIVISIO...   \n",
              "996             7611         TEXAS FARM BUREAU MUTUAL INSURANCE COMPANY   \n",
              "997             7612                             ACCC INSURANCE COMPANY   \n",
              "998             7615                         NAUTILUS INSURANCE COMPANY   \n",
              "999             7632       ALLSTATE FIRE AND CASUALTY INSURANCE COMPANY   \n",
              "\n",
              "    complainant_role           reason complaint_confirmed_code  \\\n",
              "0           Provider  Denial Of Claim                       No   \n",
              "1           Provider  Denial Of Claim                       No   \n",
              "2            Insured  Denial Of Claim                       No   \n",
              "3           Relative  Denial Of Claim                       No   \n",
              "4            Insured  Denial Of Claim                       No   \n",
              "..               ...              ...                      ...   \n",
              "995         Provider  Denial Of Claim                       No   \n",
              "996          Insured  Denial Of Claim                       No   \n",
              "997      Third Party  Denial Of Claim                       No   \n",
              "998          Insured  Denial Of Claim                       No   \n",
              "999          Insured  Denial Of Claim                       No   \n",
              "\n",
              "                                           disposition  \\\n",
              "0                                                Other   \n",
              "1                                                Other   \n",
              "2                              Company Position Upheld   \n",
              "3                        Contract Language/Legal Issue   \n",
              "4    Question of Fact; Information Furnished; Addit...   \n",
              "..                                                 ...   \n",
              "995                                    No Jurisdiction   \n",
              "996            Information Furnished; Question of Fact   \n",
              "997  Contract Language/Legal Issue; Information Fur...   \n",
              "998                                                NaN   \n",
              "999                              Information Furnished   \n",
              "\n",
              "               received_date              closed_date  \\\n",
              "0    2012-06-11T00:00:00.000  2012-07-30T00:00:00.000   \n",
              "1    2012-06-28T00:00:00.000  2012-07-30T00:00:00.000   \n",
              "2    2012-06-19T00:00:00.000  2012-08-06T00:00:00.000   \n",
              "3    2012-06-18T00:00:00.000  2012-07-19T00:00:00.000   \n",
              "4    2012-06-05T00:00:00.000  2012-07-27T00:00:00.000   \n",
              "..                       ...                      ...   \n",
              "995  2012-09-11T00:00:00.000  2012-11-13T00:00:00.000   \n",
              "996  2012-09-04T00:00:00.000  2012-11-05T00:00:00.000   \n",
              "997  2012-09-04T00:00:00.000  2012-11-05T00:00:00.000   \n",
              "998  2012-09-04T00:00:00.000  2013-01-18T00:00:00.000   \n",
              "999  2012-09-04T00:00:00.000  2012-11-06T00:00:00.000   \n",
              "\n",
              "                complaint_type        coverage_type           coverage_level  \\\n",
              "0    Life, Accident and Health  Accident and Health                Group A&H   \n",
              "1    Life, Accident and Health  Accident and Health                Group A&H   \n",
              "2    Life, Accident and Health  Accident and Health                Group A&H   \n",
              "3    Life, Accident and Health  Accident and Health         Individual A & H   \n",
              "4        Property and Casualty           Homeowners               Homeowners   \n",
              "..                         ...                  ...                      ...   \n",
              "995  Life, Accident and Health  Accident and Health                Group A&H   \n",
              "996      Property and Casualty           Homeowners               Homeowners   \n",
              "997      Property and Casualty           Automobile  Individual Private Pass   \n",
              "998      Property and Casualty        Miscellaneous            Surplus Lines   \n",
              "999      Property and Casualty           Automobile  Individual Private Pass   \n",
              "\n",
              "    respondent_id           respondent_role respondent_type complainant_type  \\\n",
              "0           10047  Ins Co - Licensed/Active    Organization              ORG   \n",
              "1           10047  Ins Co - Licensed/Active    Organization              ORG   \n",
              "2           10047  Ins Co - Licensed/Active    Organization             INDV   \n",
              "3           27417  Ins Co - Licensed/Active    Organization             INDV   \n",
              "4            8207  Ins Co - Licensed/Active    Organization             INDV   \n",
              "..            ...                       ...             ...              ...   \n",
              "995         10047       Self-Funded / Erisa    Organization              ORG   \n",
              "996          1450  Ins Co - Licensed/Active    Organization             INDV   \n",
              "997          9825  Ins Co - Licensed/Active    Organization             INDV   \n",
              "998         55806  Ins Co - Licensed/Active    Organization              ORG   \n",
              "999           936  Ins Co - Licensed/Active    Organization             INDV   \n",
              "\n",
              "                involved_party_type  \\\n",
              "0                               NaN   \n",
              "1                               NaN   \n",
              "2                               NaN   \n",
              "3      GR Elected Official; Insured   \n",
              "4    Third Party Admin-Non Licensed   \n",
              "..                              ...   \n",
              "995                             NaN   \n",
              "996                             NaN   \n",
              "997                         Insured   \n",
              "998                             NaN   \n",
              "999                             NaN   \n",
              "\n",
              "                                           keyword  \n",
              "0                                              NaN  \n",
              "1                                              NaN  \n",
              "2                                              NaN  \n",
              "3                                              NaN  \n",
              "4      CLAIM EVALUATION; FOUNDATION ; WATER DAMAGE  \n",
              "..                                             ...  \n",
              "995                                            NaN  \n",
              "996  DAMAGE DISPUTE; ENGINEER'S REPORT; HAIL; ROOF  \n",
              "997                          UNCOOPERATIVE INSURED  \n",
              "998                                            NaN  \n",
              "999                                            NaN  \n",
              "\n",
              "[1000 rows x 17 columns]"
            ]
          },
          "execution_count": 10,
          "metadata": {},
          "output_type": "execute_result"
        }
      ],
      "source": [
        "url = 'https://data.texas.gov/resource/ubdr-4uff.json?reason=Denial Of Claim'\n",
        "r = requests.get(url)\n",
        "rjson = r.json()\n",
        "filtered_data = pd.DataFrame.from_dict(rjson)\n",
        "filtered_data"
      ]
    },
    {
      "cell_type": "markdown",
      "id": "96b242be",
      "metadata": {
        "tags": [
          "2_min"
        ],
        "id": "96b242be"
      },
      "source": [
        "### Exercise 6:\n",
        "\n",
        "Copy the previous code cell and repeat the request, but this time include only those records where `coverage_type` is `Automobile`."
      ]
    },
    {
      "cell_type": "code",
      "execution_count": null,
      "id": "7e03b1be",
      "metadata": {
        "id": "7e03b1be",
        "outputId": "a7784ec2-dc55-4263-c11d-c31d8b04662f"
      },
      "outputs": [
        {
          "data": {
            "text/html": [
              "<div>\n",
              "<style scoped>\n",
              "    .dataframe tbody tr th:only-of-type {\n",
              "        vertical-align: middle;\n",
              "    }\n",
              "\n",
              "    .dataframe tbody tr th {\n",
              "        vertical-align: top;\n",
              "    }\n",
              "\n",
              "    .dataframe thead th {\n",
              "        text-align: right;\n",
              "    }\n",
              "</style>\n",
              "<table border=\"1\" class=\"dataframe\">\n",
              "  <thead>\n",
              "    <tr style=\"text-align: right;\">\n",
              "      <th></th>\n",
              "      <th>complaint_number</th>\n",
              "      <th>respondent_name</th>\n",
              "      <th>complainant_role</th>\n",
              "      <th>reason</th>\n",
              "      <th>complaint_confirmed_code</th>\n",
              "      <th>disposition</th>\n",
              "      <th>received_date</th>\n",
              "      <th>closed_date</th>\n",
              "      <th>complaint_type</th>\n",
              "      <th>coverage_type</th>\n",
              "      <th>coverage_level</th>\n",
              "      <th>respondent_id</th>\n",
              "      <th>respondent_role</th>\n",
              "      <th>respondent_type</th>\n",
              "      <th>complainant_type</th>\n",
              "      <th>keyword</th>\n",
              "      <th>involved_party_type</th>\n",
              "    </tr>\n",
              "  </thead>\n",
              "  <tbody>\n",
              "    <tr>\n",
              "      <th>0</th>\n",
              "      <td>5</td>\n",
              "      <td>CHARTER OAK FIRE INSURANCE COMPANY, THE</td>\n",
              "      <td>Insured</td>\n",
              "      <td>Unsatisfactory Settle/Offer</td>\n",
              "      <td>No</td>\n",
              "      <td>Contract Language/Legal Issue; Question of Fact</td>\n",
              "      <td>2012-06-13T00:00:00.000</td>\n",
              "      <td>2012-07-17T00:00:00.000</td>\n",
              "      <td>Property and Casualty</td>\n",
              "      <td>Automobile</td>\n",
              "      <td>Individual Private Pass</td>\n",
              "      <td>2918</td>\n",
              "      <td>Ins Co - Licensed/Active</td>\n",
              "      <td>Organization</td>\n",
              "      <td>INDV</td>\n",
              "      <td>2012 NORTH TEXAS TORNADOES; ADJUSTER'S HANDLIN...</td>\n",
              "      <td>NaN</td>\n",
              "    </tr>\n",
              "    <tr>\n",
              "      <th>1</th>\n",
              "      <td>7</td>\n",
              "      <td>USAA GENERAL INDEMNITY COMPANY</td>\n",
              "      <td>Third Party</td>\n",
              "      <td>Unsatisfactory Settle/Offer</td>\n",
              "      <td>No</td>\n",
              "      <td>Claim Settled; Question of Fact</td>\n",
              "      <td>2012-02-27T00:00:00.000</td>\n",
              "      <td>2012-07-02T00:00:00.000</td>\n",
              "      <td>Property and Casualty</td>\n",
              "      <td>Automobile</td>\n",
              "      <td>Individual Private Pass</td>\n",
              "      <td>1276</td>\n",
              "      <td>Ins Co - Licensed/Active</td>\n",
              "      <td>Organization</td>\n",
              "      <td>INDV</td>\n",
              "      <td>CLAIM EVALUATION</td>\n",
              "      <td>Insured</td>\n",
              "    </tr>\n",
              "    <tr>\n",
              "      <th>2</th>\n",
              "      <td>10</td>\n",
              "      <td>ALLSTATE FIRE AND CASUALTY INSURANCE COMPANY</td>\n",
              "      <td>Attorney</td>\n",
              "      <td>Non-Disclosure Of Coverage</td>\n",
              "      <td>Yes</td>\n",
              "      <td>Information Furnished</td>\n",
              "      <td>2012-06-15T00:00:00.000</td>\n",
              "      <td>2012-09-26T00:00:00.000</td>\n",
              "      <td>Property and Casualty</td>\n",
              "      <td>Automobile</td>\n",
              "      <td>Individual Private Pass</td>\n",
              "      <td>936</td>\n",
              "      <td>Ins Co - Licensed/Active</td>\n",
              "      <td>Organization</td>\n",
              "      <td>INDV</td>\n",
              "      <td>CREDIT REPORT</td>\n",
              "      <td>NaN</td>\n",
              "    </tr>\n",
              "    <tr>\n",
              "      <th>3</th>\n",
              "      <td>13</td>\n",
              "      <td>OLD AMERICAN COUNTY MUTUAL FIRE INSURANCE COMPANY</td>\n",
              "      <td>Insured</td>\n",
              "      <td>Cancellation</td>\n",
              "      <td>No</td>\n",
              "      <td>Company Position Upheld; Policy Not In Force</td>\n",
              "      <td>2012-04-13T00:00:00.000</td>\n",
              "      <td>2012-07-20T00:00:00.000</td>\n",
              "      <td>Property and Casualty</td>\n",
              "      <td>Automobile</td>\n",
              "      <td>Individual Private Pass</td>\n",
              "      <td>1823</td>\n",
              "      <td>Ins Co - Licensed/Active</td>\n",
              "      <td>Organization</td>\n",
              "      <td>INDV</td>\n",
              "      <td>NaN</td>\n",
              "      <td>Associated Subject Agency</td>\n",
              "    </tr>\n",
              "    <tr>\n",
              "      <th>4</th>\n",
              "      <td>13</td>\n",
              "      <td>ROMERO INSURANCE AGENCY, LLC</td>\n",
              "      <td>Insured</td>\n",
              "      <td>Cancellation</td>\n",
              "      <td>No</td>\n",
              "      <td>Information Furnished</td>\n",
              "      <td>2012-04-13T00:00:00.000</td>\n",
              "      <td>2012-07-20T00:00:00.000</td>\n",
              "      <td>Property and Casualty</td>\n",
              "      <td>Automobile</td>\n",
              "      <td>Individual Private Pass</td>\n",
              "      <td>43328</td>\n",
              "      <td>Insurance Agency</td>\n",
              "      <td>Organization</td>\n",
              "      <td>INDV</td>\n",
              "      <td>NaN</td>\n",
              "      <td>Associated Subject Agency</td>\n",
              "    </tr>\n",
              "    <tr>\n",
              "      <th>...</th>\n",
              "      <td>...</td>\n",
              "      <td>...</td>\n",
              "      <td>...</td>\n",
              "      <td>...</td>\n",
              "      <td>...</td>\n",
              "      <td>...</td>\n",
              "      <td>...</td>\n",
              "      <td>...</td>\n",
              "      <td>...</td>\n",
              "      <td>...</td>\n",
              "      <td>...</td>\n",
              "      <td>...</td>\n",
              "      <td>...</td>\n",
              "      <td>...</td>\n",
              "      <td>...</td>\n",
              "      <td>...</td>\n",
              "      <td>...</td>\n",
              "    </tr>\n",
              "    <tr>\n",
              "      <th>995</th>\n",
              "      <td>3493</td>\n",
              "      <td>STATE FARM MUTUAL AUTOMOBILE INSURANCE COMPANY</td>\n",
              "      <td>Third Party</td>\n",
              "      <td>Delays (Claims Handling)</td>\n",
              "      <td>No</td>\n",
              "      <td>Complainant Retained Attorney; Information Fur...</td>\n",
              "      <td>2012-07-30T00:00:00.000</td>\n",
              "      <td>2012-09-20T00:00:00.000</td>\n",
              "      <td>Property and Casualty</td>\n",
              "      <td>Automobile</td>\n",
              "      <td>Individual Private Pass</td>\n",
              "      <td>1510</td>\n",
              "      <td>Ins Co - Licensed/Active</td>\n",
              "      <td>Organization</td>\n",
              "      <td>INDV</td>\n",
              "      <td>CLAIM EVALUATION</td>\n",
              "      <td>Insured</td>\n",
              "    </tr>\n",
              "    <tr>\n",
              "      <th>996</th>\n",
              "      <td>3494</td>\n",
              "      <td>STATE FARM MUTUAL AUTOMOBILE INSURANCE COMPANY</td>\n",
              "      <td>Third Party</td>\n",
              "      <td>Delays (Claims Handling)</td>\n",
              "      <td>No</td>\n",
              "      <td>Claim Settled; Information Furnished</td>\n",
              "      <td>2012-07-30T00:00:00.000</td>\n",
              "      <td>2012-10-18T00:00:00.000</td>\n",
              "      <td>Property and Casualty</td>\n",
              "      <td>Automobile</td>\n",
              "      <td>Individual Private Pass</td>\n",
              "      <td>1510</td>\n",
              "      <td>Ins Co - Licensed/Active</td>\n",
              "      <td>Organization</td>\n",
              "      <td>INDV</td>\n",
              "      <td>NaN</td>\n",
              "      <td>NaN</td>\n",
              "    </tr>\n",
              "    <tr>\n",
              "      <th>997</th>\n",
              "      <td>3496</td>\n",
              "      <td>OLD AMERICAN COUNTY MUTUAL FIRE INSURANCE COMPANY</td>\n",
              "      <td>Third Party</td>\n",
              "      <td>Delays (Claims Handling)</td>\n",
              "      <td>No</td>\n",
              "      <td>Claim Settled</td>\n",
              "      <td>2012-07-30T00:00:00.000</td>\n",
              "      <td>2012-10-10T00:00:00.000</td>\n",
              "      <td>Property and Casualty</td>\n",
              "      <td>Automobile</td>\n",
              "      <td>Individual Private Pass</td>\n",
              "      <td>1823</td>\n",
              "      <td>Ins Co - Licensed/Active</td>\n",
              "      <td>Organization</td>\n",
              "      <td>INDV</td>\n",
              "      <td>REPLACEMENT VEHICLE</td>\n",
              "      <td>Associated Subject Agency</td>\n",
              "    </tr>\n",
              "    <tr>\n",
              "      <th>998</th>\n",
              "      <td>3500</td>\n",
              "      <td>DRIVER'S INSURANCE COMPANY</td>\n",
              "      <td>Attorney</td>\n",
              "      <td>Delays (Claims Handling)</td>\n",
              "      <td>No</td>\n",
              "      <td>Claim Settled; Company Position Upheld</td>\n",
              "      <td>2012-07-27T00:00:00.000</td>\n",
              "      <td>2012-10-04T00:00:00.000</td>\n",
              "      <td>Property and Casualty</td>\n",
              "      <td>Automobile</td>\n",
              "      <td>Individual Private Pass</td>\n",
              "      <td>2038</td>\n",
              "      <td>Ins Co - Licensed/Active</td>\n",
              "      <td>Organization</td>\n",
              "      <td>INDV</td>\n",
              "      <td>ADJUSTER'S HANDLING</td>\n",
              "      <td>Associated Subject Person</td>\n",
              "    </tr>\n",
              "    <tr>\n",
              "      <th>999</th>\n",
              "      <td>3502</td>\n",
              "      <td>OLD AMERICAN COUNTY MUTUAL FIRE INSURANCE COMPANY</td>\n",
              "      <td>Consumer (Non-Insured)</td>\n",
              "      <td>Delays (Claims Handling); Unsatisfactory Settl...</td>\n",
              "      <td>No</td>\n",
              "      <td>Contract Language/Legal Issue</td>\n",
              "      <td>2012-07-30T00:00:00.000</td>\n",
              "      <td>2012-10-24T00:00:00.000</td>\n",
              "      <td>Property and Casualty</td>\n",
              "      <td>Automobile</td>\n",
              "      <td>Individual Private Pass</td>\n",
              "      <td>1823</td>\n",
              "      <td>Ins Co - Licensed/Active</td>\n",
              "      <td>Organization</td>\n",
              "      <td>INDV</td>\n",
              "      <td>ADJUSTER'S HANDLING</td>\n",
              "      <td>Associated Subject Company</td>\n",
              "    </tr>\n",
              "  </tbody>\n",
              "</table>\n",
              "<p>1000 rows × 17 columns</p>\n",
              "</div>"
            ],
            "text/plain": [
              "    complaint_number                                    respondent_name  \\\n",
              "0                  5            CHARTER OAK FIRE INSURANCE COMPANY, THE   \n",
              "1                  7                     USAA GENERAL INDEMNITY COMPANY   \n",
              "2                 10       ALLSTATE FIRE AND CASUALTY INSURANCE COMPANY   \n",
              "3                 13  OLD AMERICAN COUNTY MUTUAL FIRE INSURANCE COMPANY   \n",
              "4                 13                       ROMERO INSURANCE AGENCY, LLC   \n",
              "..               ...                                                ...   \n",
              "995             3493     STATE FARM MUTUAL AUTOMOBILE INSURANCE COMPANY   \n",
              "996             3494     STATE FARM MUTUAL AUTOMOBILE INSURANCE COMPANY   \n",
              "997             3496  OLD AMERICAN COUNTY MUTUAL FIRE INSURANCE COMPANY   \n",
              "998             3500                         DRIVER'S INSURANCE COMPANY   \n",
              "999             3502  OLD AMERICAN COUNTY MUTUAL FIRE INSURANCE COMPANY   \n",
              "\n",
              "           complainant_role  \\\n",
              "0                   Insured   \n",
              "1               Third Party   \n",
              "2                  Attorney   \n",
              "3                   Insured   \n",
              "4                   Insured   \n",
              "..                      ...   \n",
              "995             Third Party   \n",
              "996             Third Party   \n",
              "997             Third Party   \n",
              "998                Attorney   \n",
              "999  Consumer (Non-Insured)   \n",
              "\n",
              "                                                reason  \\\n",
              "0                          Unsatisfactory Settle/Offer   \n",
              "1                          Unsatisfactory Settle/Offer   \n",
              "2                           Non-Disclosure Of Coverage   \n",
              "3                                         Cancellation   \n",
              "4                                         Cancellation   \n",
              "..                                                 ...   \n",
              "995                           Delays (Claims Handling)   \n",
              "996                           Delays (Claims Handling)   \n",
              "997                           Delays (Claims Handling)   \n",
              "998                           Delays (Claims Handling)   \n",
              "999  Delays (Claims Handling); Unsatisfactory Settl...   \n",
              "\n",
              "    complaint_confirmed_code  \\\n",
              "0                         No   \n",
              "1                         No   \n",
              "2                        Yes   \n",
              "3                         No   \n",
              "4                         No   \n",
              "..                       ...   \n",
              "995                       No   \n",
              "996                       No   \n",
              "997                       No   \n",
              "998                       No   \n",
              "999                       No   \n",
              "\n",
              "                                           disposition  \\\n",
              "0      Contract Language/Legal Issue; Question of Fact   \n",
              "1                      Claim Settled; Question of Fact   \n",
              "2                                Information Furnished   \n",
              "3         Company Position Upheld; Policy Not In Force   \n",
              "4                                Information Furnished   \n",
              "..                                                 ...   \n",
              "995  Complainant Retained Attorney; Information Fur...   \n",
              "996               Claim Settled; Information Furnished   \n",
              "997                                      Claim Settled   \n",
              "998             Claim Settled; Company Position Upheld   \n",
              "999                      Contract Language/Legal Issue   \n",
              "\n",
              "               received_date              closed_date         complaint_type  \\\n",
              "0    2012-06-13T00:00:00.000  2012-07-17T00:00:00.000  Property and Casualty   \n",
              "1    2012-02-27T00:00:00.000  2012-07-02T00:00:00.000  Property and Casualty   \n",
              "2    2012-06-15T00:00:00.000  2012-09-26T00:00:00.000  Property and Casualty   \n",
              "3    2012-04-13T00:00:00.000  2012-07-20T00:00:00.000  Property and Casualty   \n",
              "4    2012-04-13T00:00:00.000  2012-07-20T00:00:00.000  Property and Casualty   \n",
              "..                       ...                      ...                    ...   \n",
              "995  2012-07-30T00:00:00.000  2012-09-20T00:00:00.000  Property and Casualty   \n",
              "996  2012-07-30T00:00:00.000  2012-10-18T00:00:00.000  Property and Casualty   \n",
              "997  2012-07-30T00:00:00.000  2012-10-10T00:00:00.000  Property and Casualty   \n",
              "998  2012-07-27T00:00:00.000  2012-10-04T00:00:00.000  Property and Casualty   \n",
              "999  2012-07-30T00:00:00.000  2012-10-24T00:00:00.000  Property and Casualty   \n",
              "\n",
              "    coverage_type           coverage_level respondent_id  \\\n",
              "0      Automobile  Individual Private Pass          2918   \n",
              "1      Automobile  Individual Private Pass          1276   \n",
              "2      Automobile  Individual Private Pass           936   \n",
              "3      Automobile  Individual Private Pass          1823   \n",
              "4      Automobile  Individual Private Pass         43328   \n",
              "..            ...                      ...           ...   \n",
              "995    Automobile  Individual Private Pass          1510   \n",
              "996    Automobile  Individual Private Pass          1510   \n",
              "997    Automobile  Individual Private Pass          1823   \n",
              "998    Automobile  Individual Private Pass          2038   \n",
              "999    Automobile  Individual Private Pass          1823   \n",
              "\n",
              "              respondent_role respondent_type complainant_type  \\\n",
              "0    Ins Co - Licensed/Active    Organization             INDV   \n",
              "1    Ins Co - Licensed/Active    Organization             INDV   \n",
              "2    Ins Co - Licensed/Active    Organization             INDV   \n",
              "3    Ins Co - Licensed/Active    Organization             INDV   \n",
              "4            Insurance Agency    Organization             INDV   \n",
              "..                        ...             ...              ...   \n",
              "995  Ins Co - Licensed/Active    Organization             INDV   \n",
              "996  Ins Co - Licensed/Active    Organization             INDV   \n",
              "997  Ins Co - Licensed/Active    Organization             INDV   \n",
              "998  Ins Co - Licensed/Active    Organization             INDV   \n",
              "999  Ins Co - Licensed/Active    Organization             INDV   \n",
              "\n",
              "                                               keyword  \\\n",
              "0    2012 NORTH TEXAS TORNADOES; ADJUSTER'S HANDLIN...   \n",
              "1                                     CLAIM EVALUATION   \n",
              "2                                        CREDIT REPORT   \n",
              "3                                                  NaN   \n",
              "4                                                  NaN   \n",
              "..                                                 ...   \n",
              "995                                   CLAIM EVALUATION   \n",
              "996                                                NaN   \n",
              "997                                REPLACEMENT VEHICLE   \n",
              "998                                ADJUSTER'S HANDLING   \n",
              "999                                ADJUSTER'S HANDLING   \n",
              "\n",
              "            involved_party_type  \n",
              "0                           NaN  \n",
              "1                       Insured  \n",
              "2                           NaN  \n",
              "3     Associated Subject Agency  \n",
              "4     Associated Subject Agency  \n",
              "..                          ...  \n",
              "995                     Insured  \n",
              "996                         NaN  \n",
              "997   Associated Subject Agency  \n",
              "998   Associated Subject Person  \n",
              "999  Associated Subject Company  \n",
              "\n",
              "[1000 rows x 17 columns]"
            ]
          },
          "execution_count": 11,
          "metadata": {},
          "output_type": "execute_result"
        }
      ],
      "source": [
        "url = 'https://data.texas.gov/resource/ubdr-4uff.json?coverage_type=Automobile'\n",
        "r = requests.get(url)\n",
        "rjson = r.json()\n",
        "filtered_data = pd.DataFrame.from_dict(rjson)\n",
        "filtered_data"
      ]
    },
    {
      "cell_type": "markdown",
      "id": "2e68757d",
      "metadata": {
        "tags": [
          "2_min"
        ],
        "id": "2e68757d"
      },
      "source": [
        "## Takeaways and Conclusion\n",
        "\n",
        "In this case we learned about APIs as programs that allow for communication between other programs, and focused on Web APIs, which we can interact with by using the `requests` package. We also learned about status codes and how to retrieve information from public APIs."
      ]
    },
    {
      "cell_type": "markdown",
      "id": "202569c7",
      "metadata": {
        "id": "202569c7"
      },
      "source": [
        "## Attribution\n",
        "\n",
        "\"Melitta Thermal coffee maker\", Alan Levine, 28 August 2013, Creative Commons Attribution 2.0 Generic license, https://commons.wikimedia.org/wiki/File:Melitta_Thermal_coffee_maker.jpg\n",
        "\n",
        "\"The Process of Communication\", Freedom Learning Group - Lumen Learning. Creative Commons Attribution,https://courses.lumenlearning.com/wm-organizationalbehavior/chapter/the-process-of-communication/\n",
        "\n",
        "\n",
        "\"REST-API\", Seobility, Creative Commons Attribution Share-Alike, https://www.seobility.net/en/wiki/images/f/f1/Rest-API.png"
      ]
    }
  ],
  "metadata": {
    "c1_recart": "7.45.0-57c20131aabc1dc2a8c675852d80a7da",
    "kernelspec": {
      "display_name": "Python 3",
      "language": "python",
      "name": "python3"
    },
    "language_info": {
      "codemirror_mode": {
        "name": "ipython",
        "version": 3
      },
      "file_extension": ".py",
      "mimetype": "text/x-python",
      "name": "python",
      "nbconvert_exporter": "python",
      "pygments_lexer": "ipython3",
      "version": "3.8.8"
    },
    "colab": {
      "provenance": [],
      "include_colab_link": true
    }
  },
  "nbformat": 4,
  "nbformat_minor": 5
}