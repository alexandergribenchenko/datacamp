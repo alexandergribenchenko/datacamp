{
  "nbformat": 4,
  "nbformat_minor": 0,
  "metadata": {
    "colab": {
      "provenance": [],
      "authorship_tag": "ABX9TyPIDFJrX0vunKUuYE/SJ/ye",
      "include_colab_link": true
    },
    "kernelspec": {
      "name": "python3",
      "display_name": "Python 3"
    },
    "language_info": {
      "name": "python"
    }
  },
  "cells": [
    {
      "cell_type": "markdown",
      "metadata": {
        "id": "view-in-github",
        "colab_type": "text"
      },
      "source": [
        "<a href=\"https://colab.research.google.com/github/alexandergribenchenko/datacamp/blob/main/Introduction_to_APIs_in_python/NB_POC_API.ipynb\" target=\"_parent\"><img src=\"https://colab.research.google.com/assets/colab-badge.svg\" alt=\"Open In Colab\"/></a>"
      ]
    },
    {
      "cell_type": "code",
      "source": [
        "!pip install python-dotenv"
      ],
      "metadata": {
        "colab": {
          "base_uri": "https://localhost:8080/"
        },
        "id": "Lo5ExdSFYz8J",
        "outputId": "d5ad06d2-c95b-4b35-fbe7-dd560397e886"
      },
      "execution_count": 2,
      "outputs": [
        {
          "output_type": "stream",
          "name": "stdout",
          "text": [
            "Collecting python-dotenv\n",
            "  Downloading python_dotenv-1.0.1-py3-none-any.whl.metadata (23 kB)\n",
            "Downloading python_dotenv-1.0.1-py3-none-any.whl (19 kB)\n",
            "Installing collected packages: python-dotenv\n",
            "Successfully installed python-dotenv-1.0.1\n"
          ]
        }
      ]
    },
    {
      "cell_type": "code",
      "source": [
        "import dotenv"
      ],
      "metadata": {
        "id": "cKZq16jmYw9W"
      },
      "execution_count": 3,
      "outputs": []
    },
    {
      "cell_type": "code",
      "execution_count": 5,
      "metadata": {
        "id": "uqwx3PkLXAIO",
        "colab": {
          "base_uri": "https://localhost:8080/"
        },
        "outputId": "37a8a804-5ecc-422b-df96-5a1ba76b05e5"
      },
      "outputs": [
        {
          "output_type": "execute_result",
          "data": {
            "text/plain": [
              "True"
            ]
          },
          "metadata": {},
          "execution_count": 5
        }
      ],
      "source": [
        "import pandas as pd\n",
        "import requests\n",
        "import json\n",
        "import os\n",
        "import base64\n",
        "\n",
        "from dotenv import load_dotenv\n",
        "load_dotenv()"
      ]
    },
    {
      "cell_type": "code",
      "source": [
        "client_id = os.getenv(\"CLIENT_ID\")\n",
        "client_secret = os.getenv(\"CLIENT_SECRET\")"
      ],
      "metadata": {
        "id": "-lo4JYnVXqVZ"
      },
      "execution_count": 7,
      "outputs": []
    },
    {
      "cell_type": "code",
      "source": [
        "def get_token():\n",
        "  auth_str = client_id + ':' + client_secret\n",
        "  auth_bytes = auth_str.encode('utf-8')\n",
        "  auth_base64 = str(base64.b64encode(auth_bytes), 'utf-8')\n",
        "\n",
        "  url = 'https://accounts.spotify.com/api/token'\n",
        "\n",
        "  headers = {\n",
        "      'Authorization' : \"Basic \" + auth_base64,\n",
        "      'Content-Type': 'application/x-www-form-urlencoded'\n",
        "  }\n",
        "\n",
        "  data  = {\"grant_type\": \"client_credentials\"}\n",
        "\n",
        "  result = requests.post(url=url, headers=headers, data=data)\n",
        "\n",
        "  json_result = json.loads(result.content)\n",
        "\n",
        "  token = json_result['access_token']\n",
        "\n",
        "  return token\n",
        "\n",
        "def get_auth_token(token):\n",
        "  return {'Authorization':'Bearer ' + token}"
      ],
      "metadata": {
        "id": "TdFI4fmcXqeB"
      },
      "execution_count": 26,
      "outputs": []
    },
    {
      "cell_type": "code",
      "source": [],
      "metadata": {
        "id": "QmQgkX3sQKH4"
      },
      "execution_count": null,
      "outputs": []
    },
    {
      "cell_type": "code",
      "source": [
        "get_token()"
      ],
      "metadata": {
        "id": "RROsBlEuXqkJ",
        "outputId": "88caf073-9755-4ec0-e8ee-c737a85f4cbe",
        "colab": {
          "base_uri": "https://localhost:8080/",
          "height": 35
        }
      },
      "execution_count": 21,
      "outputs": [
        {
          "output_type": "execute_result",
          "data": {
            "text/plain": [
              "'BQCaRl_yEY0WuJDNRPTuWBFv4QExLlsPfueesEo7P8hxbMMW_bkvJe19SMBwqoUD1YcGsAlUxGNexy5PGr6DwxCuSLD_H1nqozbYWw0MQJkfXH5wgo4'"
            ],
            "application/vnd.google.colaboratory.intrinsic+json": {
              "type": "string"
            }
          },
          "metadata": {},
          "execution_count": 21
        }
      ]
    },
    {
      "cell_type": "code",
      "source": [
        "get_token()"
      ],
      "metadata": {
        "id": "2-rfNDPaXqmo",
        "outputId": "f33c2783-49db-4cee-af40-293097c355d1",
        "colab": {
          "base_uri": "https://localhost:8080/",
          "height": 35
        }
      },
      "execution_count": 22,
      "outputs": [
        {
          "output_type": "execute_result",
          "data": {
            "text/plain": [
              "'BQBu9fQ5qIpxz6rjlwNe70Spw-oWfs4Xnj1DPKmG2vlK29b-sg5wLUCFccH620y-EeAyLbZLiMpKnaGwVugCvA8zDMOCOgJR4bCITNGkzjB1lkfG_QA'"
            ],
            "application/vnd.google.colaboratory.intrinsic+json": {
              "type": "string"
            }
          },
          "metadata": {},
          "execution_count": 22
        }
      ]
    },
    {
      "cell_type": "code",
      "source": [
        "def search_for_artist(token, artist_name):\n",
        "\n",
        "  url = 'https://api.spotify.com/v1/search'\n",
        "\n",
        "  headers = get_auth_token(token)\n",
        "\n",
        "  query = f'?q={artist_name}&type=artist&limit=1'\n",
        "\n",
        "  query_url = url + query\n",
        "\n",
        "  result = requests.get(query_url, headers=headers)\n",
        "\n",
        "  json_result = json.loads(result.content)\n",
        "\n",
        "  return json_result\n",
        "\n",
        "\n"
      ],
      "metadata": {
        "id": "kyyDXad_P_PI"
      },
      "execution_count": 32,
      "outputs": []
    },
    {
      "cell_type": "code",
      "source": [
        "token = get_token()\n",
        "search_for_artist(token, \"Bad Bunny\")"
      ],
      "metadata": {
        "id": "It3Hj8M5Qvd8",
        "outputId": "9f9ffd50-e791-4c85-9f05-0ef6ea194253",
        "colab": {
          "base_uri": "https://localhost:8080/"
        }
      },
      "execution_count": 28,
      "outputs": [
        {
          "output_type": "stream",
          "name": "stdout",
          "text": [
            "{'artists': {'href': 'https://api.spotify.com/v1/search?query=Bad+Bunny&type=artist&offset=0&limit=1', 'items': [{'external_urls': {'spotify': 'https://open.spotify.com/artist/4q3ewBCX7sLwd24euuV69X'}, 'followers': {'href': None, 'total': 85572285}, 'genres': ['reggaeton', 'trap latino', 'urbano latino'], 'href': 'https://api.spotify.com/v1/artists/4q3ewBCX7sLwd24euuV69X', 'id': '4q3ewBCX7sLwd24euuV69X', 'images': [{'height': 640, 'url': 'https://i.scdn.co/image/ab6761610000e5eb744a4243fb6cc938011a98f4', 'width': 640}, {'height': 320, 'url': 'https://i.scdn.co/image/ab67616100005174744a4243fb6cc938011a98f4', 'width': 320}, {'height': 160, 'url': 'https://i.scdn.co/image/ab6761610000f178744a4243fb6cc938011a98f4', 'width': 160}], 'name': 'Bad Bunny', 'popularity': 95, 'type': 'artist', 'uri': 'spotify:artist:4q3ewBCX7sLwd24euuV69X'}], 'limit': 1, 'next': 'https://api.spotify.com/v1/search?query=Bad+Bunny&type=artist&offset=1&limit=1', 'offset': 0, 'previous': None, 'total': 832}}\n"
          ]
        }
      ]
    },
    {
      "cell_type": "code",
      "source": [
        "search_for_artist(token, \"Ramones\")"
      ],
      "metadata": {
        "id": "P59o8HyEQvb4",
        "outputId": "21754707-e1cd-4bc5-9b5b-4ad2d0b01a65",
        "colab": {
          "base_uri": "https://localhost:8080/"
        }
      },
      "execution_count": 33,
      "outputs": [
        {
          "output_type": "execute_result",
          "data": {
            "text/plain": [
              "{'artists': {'href': 'https://api.spotify.com/v1/search?query=Ramones&type=artist&offset=0&limit=1',\n",
              "  'items': [{'external_urls': {'spotify': 'https://open.spotify.com/artist/1co4F2pPNH8JjTutZkmgSm'},\n",
              "    'followers': {'href': None, 'total': 2684029},\n",
              "    'genres': ['alternative rock',\n",
              "     'early us punk',\n",
              "     'permanent wave',\n",
              "     'punk',\n",
              "     'rock'],\n",
              "    'href': 'https://api.spotify.com/v1/artists/1co4F2pPNH8JjTutZkmgSm',\n",
              "    'id': '1co4F2pPNH8JjTutZkmgSm',\n",
              "    'images': [{'height': 640,\n",
              "      'url': 'https://i.scdn.co/image/ab6761610000e5eb5b9f46a5c5bf8243179d56b0',\n",
              "      'width': 640},\n",
              "     {'height': 320,\n",
              "      'url': 'https://i.scdn.co/image/ab676161000051745b9f46a5c5bf8243179d56b0',\n",
              "      'width': 320},\n",
              "     {'height': 160,\n",
              "      'url': 'https://i.scdn.co/image/ab6761610000f1785b9f46a5c5bf8243179d56b0',\n",
              "      'width': 160}],\n",
              "    'name': 'Ramones',\n",
              "    'popularity': 67,\n",
              "    'type': 'artist',\n",
              "    'uri': 'spotify:artist:1co4F2pPNH8JjTutZkmgSm'}],\n",
              "  'limit': 1,\n",
              "  'next': 'https://api.spotify.com/v1/search?query=Ramones&type=artist&offset=1&limit=1',\n",
              "  'offset': 0,\n",
              "  'previous': None,\n",
              "  'total': 988}}"
            ]
          },
          "metadata": {},
          "execution_count": 33
        }
      ]
    },
    {
      "cell_type": "code",
      "source": [
        "print(search_for_artist(token, \"Ramones\"))"
      ],
      "metadata": {
        "id": "o-qr10xYQvZ3",
        "outputId": "8336e9b0-892e-4933-86e3-c317feb0e87b",
        "colab": {
          "base_uri": "https://localhost:8080/"
        }
      },
      "execution_count": 30,
      "outputs": [
        {
          "output_type": "stream",
          "name": "stdout",
          "text": [
            "{'artists': {'href': 'https://api.spotify.com/v1/search?query=Ramones&type=artist&offset=0&limit=1', 'items': [{'external_urls': {'spotify': 'https://open.spotify.com/artist/1co4F2pPNH8JjTutZkmgSm'}, 'followers': {'href': None, 'total': 2684029}, 'genres': ['alternative rock', 'early us punk', 'permanent wave', 'punk', 'rock'], 'href': 'https://api.spotify.com/v1/artists/1co4F2pPNH8JjTutZkmgSm', 'id': '1co4F2pPNH8JjTutZkmgSm', 'images': [{'height': 640, 'url': 'https://i.scdn.co/image/ab6761610000e5eb5b9f46a5c5bf8243179d56b0', 'width': 640}, {'height': 320, 'url': 'https://i.scdn.co/image/ab676161000051745b9f46a5c5bf8243179d56b0', 'width': 320}, {'height': 160, 'url': 'https://i.scdn.co/image/ab6761610000f1785b9f46a5c5bf8243179d56b0', 'width': 160}], 'name': 'Ramones', 'popularity': 67, 'type': 'artist', 'uri': 'spotify:artist:1co4F2pPNH8JjTutZkmgSm'}], 'limit': 1, 'next': 'https://api.spotify.com/v1/search?query=Ramones&type=artist&offset=1&limit=1', 'offset': 0, 'previous': None, 'total': 988}}\n",
            "None\n"
          ]
        }
      ]
    },
    {
      "cell_type": "code",
      "source": [
        "formatted_json = json.dumps(search_for_artist(token, \"Ramones\"), indent=4)\n",
        "print(formatted_json)"
      ],
      "metadata": {
        "id": "mbbF1PD_QvXx",
        "outputId": "a572e1ed-1b02-46dc-8c79-72cd47097872",
        "colab": {
          "base_uri": "https://localhost:8080/"
        }
      },
      "execution_count": 31,
      "outputs": [
        {
          "output_type": "stream",
          "name": "stdout",
          "text": [
            "{'artists': {'href': 'https://api.spotify.com/v1/search?query=Ramones&type=artist&offset=0&limit=1', 'items': [{'external_urls': {'spotify': 'https://open.spotify.com/artist/1co4F2pPNH8JjTutZkmgSm'}, 'followers': {'href': None, 'total': 2684029}, 'genres': ['alternative rock', 'early us punk', 'permanent wave', 'punk', 'rock'], 'href': 'https://api.spotify.com/v1/artists/1co4F2pPNH8JjTutZkmgSm', 'id': '1co4F2pPNH8JjTutZkmgSm', 'images': [{'height': 640, 'url': 'https://i.scdn.co/image/ab6761610000e5eb5b9f46a5c5bf8243179d56b0', 'width': 640}, {'height': 320, 'url': 'https://i.scdn.co/image/ab676161000051745b9f46a5c5bf8243179d56b0', 'width': 320}, {'height': 160, 'url': 'https://i.scdn.co/image/ab6761610000f1785b9f46a5c5bf8243179d56b0', 'width': 160}], 'name': 'Ramones', 'popularity': 67, 'type': 'artist', 'uri': 'spotify:artist:1co4F2pPNH8JjTutZkmgSm'}], 'limit': 1, 'next': 'https://api.spotify.com/v1/search?query=Ramones&type=artist&offset=1&limit=1', 'offset': 0, 'previous': None, 'total': 988}}\n",
            "null\n"
          ]
        }
      ]
    },
    {
      "cell_type": "code",
      "source": [],
      "metadata": {
        "id": "bI7xLirIQvVa"
      },
      "execution_count": null,
      "outputs": []
    }
  ]
}