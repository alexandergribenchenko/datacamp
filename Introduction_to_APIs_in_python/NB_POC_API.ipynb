{
  "nbformat": 4,
  "nbformat_minor": 0,
  "metadata": {
    "colab": {
      "provenance": [],
      "authorship_tag": "ABX9TyO91OuQEH1yZO02vf/oqZJQ",
      "include_colab_link": true
    },
    "kernelspec": {
      "name": "python3",
      "display_name": "Python 3"
    },
    "language_info": {
      "name": "python"
    }
  },
  "cells": [
    {
      "cell_type": "markdown",
      "metadata": {
        "id": "view-in-github",
        "colab_type": "text"
      },
      "source": [
        "<a href=\"https://colab.research.google.com/github/alexandergribenchenko/datacamp/blob/main/Introduction_to_APIs_in_python/NB_POC_API.ipynb\" target=\"_parent\"><img src=\"https://colab.research.google.com/assets/colab-badge.svg\" alt=\"Open In Colab\"/></a>"
      ]
    },
    {
      "cell_type": "code",
      "source": [
        "!pip install python-dotenv"
      ],
      "metadata": {
        "colab": {
          "base_uri": "https://localhost:8080/"
        },
        "id": "Lo5ExdSFYz8J",
        "outputId": "7be19394-ff5e-40ee-f4c9-cd313b742415"
      },
      "execution_count": 1,
      "outputs": [
        {
          "output_type": "stream",
          "name": "stdout",
          "text": [
            "Collecting python-dotenv\n",
            "  Downloading python_dotenv-1.0.1-py3-none-any.whl.metadata (23 kB)\n",
            "Downloading python_dotenv-1.0.1-py3-none-any.whl (19 kB)\n",
            "Installing collected packages: python-dotenv\n",
            "Successfully installed python-dotenv-1.0.1\n"
          ]
        }
      ]
    },
    {
      "cell_type": "code",
      "source": [
        "import dotenv"
      ],
      "metadata": {
        "id": "cKZq16jmYw9W"
      },
      "execution_count": null,
      "outputs": []
    },
    {
      "cell_type": "code",
      "execution_count": 2,
      "metadata": {
        "id": "uqwx3PkLXAIO",
        "colab": {
          "base_uri": "https://localhost:8080/"
        },
        "outputId": "4ba61bf7-3e62-47c6-c105-6c5d5a23ad24"
      },
      "outputs": [
        {
          "output_type": "execute_result",
          "data": {
            "text/plain": [
              "True"
            ]
          },
          "metadata": {},
          "execution_count": 2
        }
      ],
      "source": [
        "import pandas as pd\n",
        "import requests\n",
        "import json\n",
        "import os\n",
        "import base64\n",
        "\n",
        "from dotenv import load_dotenv\n",
        "load_dotenv()"
      ]
    },
    {
      "cell_type": "code",
      "source": [
        "client_id = os.getenv(\"CLIENT_ID\")\n",
        "client_secret = os.getenv(\"CLIENT_SECRET\")\n",
        "print(client_secret)"
      ],
      "metadata": {
        "id": "-lo4JYnVXqVZ",
        "colab": {
          "base_uri": "https://localhost:8080/"
        },
        "outputId": "4c232a51-7f76-4da8-cd04-54bd4065a063"
      },
      "execution_count": 5,
      "outputs": [
        {
          "output_type": "stream",
          "name": "stdout",
          "text": [
            "a27a5406a1ef4fcebeea20b72e6e80de\n"
          ]
        }
      ]
    },
    {
      "cell_type": "code",
      "source": [
        "def get_token():\n",
        "  auth_str = client_id + ':' + client_secret\n",
        "  auth_bytes = auth_str.encode('utf-8')\n",
        "  auth_base64 = str(base64.b64encode(auth_bytes), 'utf-8')\n",
        "\n",
        "  url = 'https://accounts.spotify.com/api/token'\n",
        "\n",
        "  headers = {\n",
        "      'Authorization' : \"Basic\" + auth_base64,\n",
        "      'Content-Type': 'application/x-www-form-urlencoded'\n",
        "  }\n",
        "\n"
      ],
      "metadata": {
        "id": "TdFI4fmcXqeB"
      },
      "execution_count": null,
      "outputs": []
    },
    {
      "cell_type": "code",
      "source": [],
      "metadata": {
        "id": "RROsBlEuXqkJ"
      },
      "execution_count": null,
      "outputs": []
    },
    {
      "cell_type": "code",
      "source": [],
      "metadata": {
        "id": "2-rfNDPaXqmo"
      },
      "execution_count": null,
      "outputs": []
    }
  ]
}